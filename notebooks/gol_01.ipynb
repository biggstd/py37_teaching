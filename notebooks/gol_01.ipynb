{
 "cells": [
  {
   "cell_type": "markdown",
   "metadata": {},
   "source": [
    "# Conway's Game of Life\n",
    "\n",
    "By: **Tyler Biggs**\n",
    "\n",
    "\n",
    "**Other Implementations:**\n",
    "+ [Peter Norvig](https://github.com/norvig/pytudes/blob/master/ipynb/Life.ipynb)\n",
    "+ [Holoviews Demo](http://holoviews.org/gallery/apps/bokeh/game_of_life.html#bokeh-gallery-game-of-life)\n",
    "\n",
    "---"
   ]
  },
  {
   "cell_type": "markdown",
   "metadata": {},
   "source": [
    "___Basic Notebook Setup___ \n",
    "\n",
    "_These imports are not directly related or necessarily used._"
   ]
  },
  {
   "cell_type": "code",
   "execution_count": 8,
   "metadata": {},
   "outputs": [],
   "source": [
    "from pprint import pprint\n",
    "import os, sys  # Add the parent parent dicetory to the path so we can import our files.\n",
    "sys.path.append(os.path.dirname(os.path.dirname(os.path.abspath(__name__))))"
   ]
  },
  {
   "cell_type": "code",
   "execution_count": 11,
   "metadata": {},
   "outputs": [
    {
     "data": {
      "text/plain": [
       "['In',\n",
       " 'Out',\n",
       " '_',\n",
       " '_10',\n",
       " '__',\n",
       " '___',\n",
       " '__builtin__',\n",
       " '__builtins__',\n",
       " '__doc__',\n",
       " '__loader__',\n",
       " '__name__',\n",
       " '__package__',\n",
       " '__spec__',\n",
       " '_dh',\n",
       " '_i',\n",
       " '_i1',\n",
       " '_i10',\n",
       " '_i11',\n",
       " '_i2',\n",
       " '_i3',\n",
       " '_i4',\n",
       " '_i5',\n",
       " '_i6',\n",
       " '_i7',\n",
       " '_i8',\n",
       " '_i9',\n",
       " '_ih',\n",
       " '_ii',\n",
       " '_iii',\n",
       " '_oh',\n",
       " 'exit',\n",
       " 'ficklin_02',\n",
       " 'get_ipython',\n",
       " 'os',\n",
       " 'pprint',\n",
       " 'quit',\n",
       " 'sys']"
      ]
     },
     "execution_count": 11,
     "metadata": {},
     "output_type": "execute_result"
    }
   ],
   "source": [
    "dir()"
   ]
  },
  {
   "cell_type": "markdown",
   "metadata": {},
   "source": [
    "*If working on the imported Python script, use the automatic reload extension.*"
   ]
  },
  {
   "cell_type": "code",
   "execution_count": 2,
   "metadata": {},
   "outputs": [],
   "source": [
    "%load_ext autoreload\n",
    "%autoreload 2"
   ]
  },
  {
   "cell_type": "markdown",
   "metadata": {},
   "source": [
    "___Import local modules and packages___"
   ]
  },
  {
   "cell_type": "code",
   "execution_count": 3,
   "metadata": {},
   "outputs": [],
   "source": [
    "# from projects.conwayGame import ficklin_01"
   ]
  },
  {
   "cell_type": "markdown",
   "metadata": {},
   "source": [
    "What does the following code do?\n",
    "\n",
    "```python\n",
    "if __name__ == \"__main__\":\n",
    "    ...\n",
    "```\n",
    "\n",
    "[StackOverflow](https://stackoverflow.com/questions/419163/what-does-if-name-main-do)\n",
    "\n",
    "Or uncomment the import above."
   ]
  },
  {
   "cell_type": "code",
   "execution_count": 4,
   "metadata": {},
   "outputs": [],
   "source": [
    "from projects.conwayGame import ficklin_02"
   ]
  },
  {
   "cell_type": "markdown",
   "metadata": {},
   "source": [
    "___Run the simulation___"
   ]
  },
  {
   "cell_type": "code",
   "execution_count": 5,
   "metadata": {},
   "outputs": [
    {
     "name": "stdout",
     "output_type": "stream",
     "text": [
      "                                                                                \n",
      "                                                                                \n",
      "                                                XX                              \n",
      "                                                XX                              \n",
      "                                                                                \n",
      "                                                                                \n",
      "                                                                                \n",
      "           XXX                                                                  \n",
      "           X X         X                                                        \n",
      "         X              X                                                       \n",
      "         X     XX     X  X                                                      \n",
      "         X   X XX      XX                                                       \n",
      "           XXXXX                                                                \n",
      "                                                                                \n",
      "      X XX X                                                                    \n",
      "      X    X                                                                    \n",
      "      X XX X                                                                    \n",
      "                                                                                \n",
      "           XXXXX                                                                \n",
      "         X   X XX                 XXX                                           \n",
      "         X     XX                                   XX                          \n",
      "         X                                          XX                          \n",
      "           X X                                                                  \n",
      "           XXX         XX                                                       \n",
      "                      X  X                                                      \n",
      "                      X X                                                       \n",
      "                      X                                                         \n",
      "                                                                                \n",
      "                                                                                \n",
      "                                                                                \n"
     ]
    }
   ],
   "source": [
    "ficklin_02.main()"
   ]
  },
  {
   "cell_type": "markdown",
   "metadata": {},
   "source": [
    "___Profile the Function___"
   ]
  },
  {
   "cell_type": "code",
   "execution_count": 7,
   "metadata": {},
   "outputs": [
    {
     "name": "stdout",
     "output_type": "stream",
     "text": [
      "                                                                                \n",
      "                                                                                \n",
      "                                                XX                              \n",
      "                                                XX                              \n",
      "                                                                                \n",
      "                                                                                \n",
      "                                                                                \n",
      "           XXX                                                                  \n",
      "           X X         X                                                        \n",
      "         X              X                                                       \n",
      "         X     XX     X  X                                                      \n",
      "         X   X XX      XX                                                       \n",
      "           XXXXX                                                                \n",
      "                                                                                \n",
      "      X XX X                                                                    \n",
      "      X    X                                                                    \n",
      "      X XX X                                                                    \n",
      "                                                                                \n",
      "           XXXXX                                                                \n",
      "         X   X XX                 XXX                                           \n",
      "         X     XX                                   XX                          \n",
      "         X                                          XX                          \n",
      "           X X                                                                  \n",
      "           XXX         XX                                                       \n",
      "                      X  X                                                      \n",
      "                      X X                                                       \n",
      "                      X                                                         \n",
      "                                                                                \n",
      "                                                                                \n",
      "                                                                                \n",
      " "
     ]
    },
    {
     "data": {
      "text/plain": [
       "         560117 function calls in 0.450 seconds\n",
       "\n",
       "   Ordered by: internal time\n",
       "\n",
       "   ncalls  tottime  percall  cumtime  percall filename:lineno(function)\n",
       "      100    0.277    0.003    0.310    0.003 ficklin_02.py:72(next_move)\n",
       "     4861    0.107    0.000    0.116    0.000 iostream.py:195(schedule)\n",
       "   242400    0.019    0.000    0.019    0.000 ficklin_02.py:18(get_state)\n",
       "   245430    0.014    0.000    0.014    0.000 {method 'append' of 'list' objects}\n",
       "     4860    0.007    0.000    0.129    0.000 iostream.py:366(write)\n",
       "     2430    0.004    0.000    0.133    0.000 {built-in method builtins.print}\n",
       "     4861    0.003    0.000    0.007    0.000 threading.py:1104(is_alive)\n",
       "        1    0.003    0.003    0.004    0.004 ficklin_02.py:41(__init__)\n",
       "     4860    0.002    0.000    0.002    0.000 {built-in method posix.getpid}\n",
       "     4860    0.002    0.000    0.004    0.000 iostream.py:300(_is_master_process)\n",
       "        1    0.002    0.002    0.136    0.136 ficklin_02.py:54(print_grid)\n",
       "     4861    0.002    0.000    0.003    0.000 threading.py:1062(_wait_for_tstate_lock)\n",
       "     4861    0.002    0.000    0.002    0.000 {method 'acquire' of '_thread.lock' objects}\n",
       "     4861    0.001    0.000    0.001    0.000 iostream.py:93(_event_pipe)\n",
       "     9016    0.001    0.000    0.001    0.000 ficklin_02.py:22(set_state)\n",
       "     4860    0.001    0.000    0.001    0.000 {built-in method builtins.isinstance}\n",
       "     4860    0.001    0.000    0.001    0.000 iostream.py:313(_schedule_flush)\n",
       "     2400    0.001    0.000    0.001    0.000 ficklin_02.py:11(__init__)\n",
       "        1    0.001    0.001    0.311    0.311 ficklin_02.py:116(play)\n",
       "     4861    0.001    0.000    0.001    0.000 threading.py:506(is_set)\n",
       "     4861    0.000    0.000    0.000    0.000 {method 'append' of 'collections.deque' objects}\n",
       "        1    0.000    0.000    0.450    0.450 <string>:2(<module>)\n",
       "        1    0.000    0.000    0.450    0.450 {built-in method builtins.exec}\n",
       "        1    0.000    0.000    0.450    0.450 ficklin_02.py:130(main)\n",
       "        7    0.000    0.000    0.000    0.000 ficklin_02.py:66(set_cell)\n",
       "        1    0.000    0.000    0.000    0.000 {method 'disable' of '_lsprof.Profiler' objects}"
      ]
     },
     "metadata": {},
     "output_type": "display_data"
    }
   ],
   "source": [
    "%%prun\n",
    "ficklin_02.main()"
   ]
  },
  {
   "cell_type": "code",
   "execution_count": null,
   "metadata": {},
   "outputs": [],
   "source": []
  }
 ],
 "metadata": {
  "kernelspec": {
   "display_name": "Python 3.7",
   "language": "python",
   "name": "py37"
  },
  "language_info": {
   "codemirror_mode": {
    "name": "ipython",
    "version": 3
   },
   "file_extension": ".py",
   "mimetype": "text/x-python",
   "name": "python",
   "nbconvert_exporter": "python",
   "pygments_lexer": "ipython3",
   "version": "3.6.4"
  }
 },
 "nbformat": 4,
 "nbformat_minor": 2
}
